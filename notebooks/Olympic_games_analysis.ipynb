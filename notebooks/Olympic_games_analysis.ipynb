{
 "cells": [
  {
   "cell_type": "markdown",
   "metadata": {},
   "source": [
    "# Olympic Games Analysis\n",
    "\n",
    "**Overview:**\n",
    "\n",
    "This notebook contains an analysis of the Olympic Games data, focusing on various aspects such as athlete performance, demographic information, and country-specific statistics. The data used in this analysis was obtained from Kaggle."
   ]
  },
  {
   "cell_type": "markdown",
   "metadata": {},
   "source": [
    "### Preliminaries\n",
    "\n",
    "Just import the libraries that will be needed throughout the assignment."
   ]
  },
  {
   "cell_type": "code",
   "execution_count": 1,
   "metadata": {},
   "outputs": [],
   "source": [
    "# imports pandas\n",
    "import pandas as pd\n",
    "\n",
    "import os\n",
    "\n",
    "import matplotlib.pyplot as plt"
   ]
  },
  {
   "cell_type": "markdown",
   "metadata": {},
   "source": [
    "## Datasets\n",
    "\n",
    "For solving the questions posed, you have the following datasets available.\n",
    "\n",
    "### Olympic Games Data\n",
    "\n",
    "Data from the Olympic Games, for the period considered, were collected for each individual athlete in a given Olympic event (or race) and recorded in the file `athlete_events.csv`. For example, the following entry is for the first gold medal won by a Portuguese woman:\n",
    "\n",
    "| |ID |Name |Sex |Age |Height |Weight |Team |NOC |Games |Year |Season |City |Sport |Event |Medal|\n",
    "|---|---|-------|-------|-------|-------|-------|- ------|-------|-------|-------|-------|-------|--- ----|-----------|-----|\n",
    "|164334 |82494 |Rosa Mara Correia dos Santos Mota |F |30 |157 |45 |Portugal |POR |1988 Summer |1988 |Summer |Seoul |Athletics |Athletics Women's Marathon |Gold|\n",
    "\n",
    "The file structure is illustrated in the figure below:\n",
    "\n",
    "![Olympic Games Data](../imgs/raw_athlete_events.png)\n",
    "\n",
    "As can be seen, various information is recorded for each individual athlete in a given Olympic event, such as name (`Name`), gender (`Sex`), age (`Age`), edition of the Olympic Games (`Games `), the Olympic event (`Event`) among others. It should be noted that, for each athlete, there is an identifier (`ID`) that is unique to that athlete and invariable - it remains for all Olympic events in which that athlete has participated, regardless of the edition (year).\n",
    "\n",
    "Regarding Olympic events, there are individual events and team events - e.g. football and the 4x100m relay are team events. In team events, the data includes one record for each athlete on the team.\n",
    "\n",
    "### Population\n",
    "\n",
    "CSV file `population.csv` includes information about the population of each country for a given year.\n",
    "\n",
    "The csv file includes ISO3 code of the country (in lower case) (`geo`), the name of the country (`name`), the year (`time`) and the population (`population`).\n",
    "\n",
    "### Country codes\n",
    "\n",
    "CSV file `codes.csv` includes information about the different codes used for different countries.\n",
    "\n",
    "The csv file includes, among other, the name of the country (`Country`), ISO3 code (`ISO3`) and the national olympic code (`IOC`).\n",
    "\n",
    "\n",
    "The following code loads the datasets."
   ]
  },
  {
   "cell_type": "code",
   "execution_count": 3,
   "metadata": {},
   "outputs": [
    {
     "name": "stdout",
     "output_type": "stream",
     "text": [
      "   ID                      Name Sex   Age  Height  Weight            Team  \\\n",
      "0   1                 A Dijiang   M  24.0   180.0    80.0           China   \n",
      "1   2                  A Lamusi   M  23.0   170.0    60.0           China   \n",
      "2   3       Gunnar Nielsen Aaby   M  24.0     NaN     NaN         Denmark   \n",
      "3   4      Edgar Lindenau Aabye   M  34.0     NaN     NaN  Denmark/Sweden   \n",
      "4   5  Christine Jacoba Aaftink   F  21.0   185.0    82.0     Netherlands   \n",
      "\n",
      "   NOC        Games  Year  Season       City          Sport  \\\n",
      "0  CHN  1992 Summer  1992  Summer  Barcelona     Basketball   \n",
      "1  CHN  2012 Summer  2012  Summer     London           Judo   \n",
      "2  DEN  1920 Summer  1920  Summer  Antwerpen       Football   \n",
      "3  DEN  1900 Summer  1900  Summer      Paris     Tug-Of-War   \n",
      "4  NED  1988 Winter  1988  Winter    Calgary  Speed Skating   \n",
      "\n",
      "                              Event Medal  \n",
      "0       Basketball Men's Basketball   NaN  \n",
      "1      Judo Men's Extra-Lightweight   NaN  \n",
      "2           Football Men's Football   NaN  \n",
      "3       Tug-Of-War Men's Tug-Of-War  Gold  \n",
      "4  Speed Skating Women's 500 metres   NaN  \n"
     ]
    }
   ],
   "source": [
    "dataFileName = os.path.join( \"..\", \"data\", \"athlete_events.csv\")\n",
    "\n",
    "dataDF = pd.read_csv(dataFileName)\n",
    "\n",
    "print(dataDF.head(5))"
   ]
  },
  {
   "cell_type": "code",
   "execution_count": 4,
   "metadata": {},
   "outputs": [
    {
     "name": "stdout",
     "output_type": "stream",
     "text": [
      "          Country ISO2 ISO3   ISON  IOC FIPS Plates Domain\n",
      "0     Afghanistan   AF  AFG    4.0  AFG   AF    AFG    .af\n",
      "1   Åland Islands   AX  ALA  248.0  NaN  NaN     AX    .ax\n",
      "2         Albania   AL  ALB    8.0  ALB   AL     AL    .al\n",
      "3         Algeria   DZ  DZA   12.0  ALG   AG     DZ    .dz\n",
      "4  American Samoa   AS  ASM   16.0  ASA   AQ    USA    .as\n"
     ]
    }
   ],
   "source": [
    "codesFileName = os.path.join(\"..\", \"data\", \"codes.csv\")\n",
    "\n",
    "codesDF = pd.read_csv(codesFileName)\n",
    "\n",
    "print(codesDF.head(5))"
   ]
  },
  {
   "cell_type": "code",
   "execution_count": 5,
   "metadata": {},
   "outputs": [
    {
     "name": "stdout",
     "output_type": "stream",
     "text": [
      "   geo         name  time  Population\n",
      "0  afg  Afghanistan  1800   3280000.0\n",
      "1  afg  Afghanistan  1801   3280000.0\n",
      "2  afg  Afghanistan  1802   3280000.0\n",
      "3  afg  Afghanistan  1803   3280000.0\n",
      "4  afg  Afghanistan  1804   3280000.0\n"
     ]
    }
   ],
   "source": [
    "populationFileName = os.path.join(\"..\", \"data\", \"population.csv\")\n",
    "\n",
    "populationDF = pd.read_csv(populationFileName)\n",
    "\n",
    "print(populationDF.head(5))"
   ]
  },
  {
   "cell_type": "markdown",
   "metadata": {},
   "source": [
    "For data on atheletes, there are some information missing. We can compute the number of entries missing using the following code.\n",
    "\n",
    "**NOTE:** the missing information on Medal is expected - it just means that the athlete has won no medal in the event."
   ]
  },
  {
   "cell_type": "code",
   "execution_count": 6,
   "metadata": {},
   "outputs": [
    {
     "data": {
      "text/plain": [
       "ID             0\n",
       "Name           0\n",
       "Sex            0\n",
       "Age         9474\n",
       "Height     60171\n",
       "Weight     62875\n",
       "Team           0\n",
       "NOC            0\n",
       "Games          0\n",
       "Year           0\n",
       "Season         0\n",
       "City           0\n",
       "Sport          0\n",
       "Event          0\n",
       "Medal     231333\n",
       "dtype: int64"
      ]
     },
     "execution_count": 6,
     "metadata": {},
     "output_type": "execute_result"
    }
   ],
   "source": [
    "dataDF.isna().sum()"
   ]
  },
  {
   "cell_type": "markdown",
   "metadata": {},
   "source": [
    "**GENERAL NOTE:** In your computations, if there are rows for which needed information is missing, just drop the rows."
   ]
  },
  {
   "cell_type": "markdown",
   "metadata": {},
   "source": []
  }
 ],
 "metadata": {
  "kernelspec": {
   "display_name": "base",
   "language": "python",
   "name": "python3"
  },
  "language_info": {
   "codemirror_mode": {
    "name": "ipython",
    "version": 3
   },
   "file_extension": ".py",
   "mimetype": "text/x-python",
   "name": "python",
   "nbconvert_exporter": "python",
   "pygments_lexer": "ipython3",
   "version": "3.11.3"
  },
  "orig_nbformat": 4
 },
 "nbformat": 4,
 "nbformat_minor": 2
}
