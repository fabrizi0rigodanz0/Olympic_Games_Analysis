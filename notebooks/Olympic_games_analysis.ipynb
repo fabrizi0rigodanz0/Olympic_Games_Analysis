{
 "cells": [
  {
   "cell_type": "markdown",
   "metadata": {},
   "source": [
    "# Olympic Games Analysis\n",
    "\n",
    "**Overview:**\n",
    "\n",
    "This notebook contains an analysis of the Olympic Games data, focusing on various aspects such as athlete performance, demographic information, and country-specific statistics. The data used in this analysis was obtained from Kaggle."
   ]
  },
  {
   "cell_type": "markdown",
   "metadata": {},
   "source": [
    "### Preliminaries\n",
    "\n",
    "Just import the libraries that will be needed throughout the assignment."
   ]
  },
  {
   "cell_type": "code",
   "execution_count": 1,
   "metadata": {},
   "outputs": [],
   "source": [
    "# imports pandas\n",
    "import pandas as pd\n",
    "\n",
    "import os\n",
    "\n",
    "import matplotlib.pyplot as plt"
   ]
  },
  {
   "cell_type": "markdown",
   "metadata": {},
   "source": [
    "## Datasets\n",
    "\n",
    "For solving the questions posed, you have the following datasets available.\n",
    "\n",
    "### Olympic Games Data\n",
    "\n",
    "Data from the Olympic Games, for the period considered, were collected for each individual athlete in a given Olympic event (or race) and recorded in the file `athlete_events.csv`. For example, the following entry is for the first gold medal won by a Portuguese woman:\n",
    "\n",
    "| |ID |Name |Sex |Age |Height |Weight |Team |NOC |Games |Year |Season |City |Sport |Event |Medal|\n",
    "|---|---|-------|-------|-------|-------|-------|- ------|-------|-------|-------|-------|-------|--- ----|-----------|-----|\n",
    "|164334 |82494 |Rosa Mara Correia dos Santos Mota |F |30 |157 |45 |Portugal |POR |1988 Summer |1988 |Summer |Seoul |Athletics |Athletics Women's Marathon |Gold|\n",
    "\n",
    "The file structure is illustrated in the figure below:\n",
    "\n",
    "![Olympic Games Data](../imgs/raw_athlete_events.png)\n",
    "\n",
    "As can be seen, various information is recorded for each individual athlete in a given Olympic event, such as name (`Name`), gender (`Sex`), age (`Age`), edition of the Olympic Games (`Games `), the Olympic event (`Event`) among others. It should be noted that, for each athlete, there is an identifier (`ID`) that is unique to that athlete and invariable - it remains for all Olympic events in which that athlete has participated, regardless of the edition (year).\n",
    "\n",
    "Regarding Olympic events, there are individual events and team events - e.g. football and the 4x100m relay are team events. In team events, the data includes one record for each athlete on the team.\n",
    "\n",
    "### Population\n",
    "\n",
    "CSV file `population.csv` includes information about the population of each country for a given year.\n",
    "\n",
    "The csv file includes ISO3 code of the country (in lower case) (`geo`), the name of the country (`name`), the year (`time`) and the population (`population`).\n",
    "\n",
    "### Country codes\n",
    "\n",
    "CSV file `codes.csv` includes information about the different codes used for different countries.\n",
    "\n",
    "The csv file includes, among other, the name of the country (`Country`), ISO3 code (`ISO3`) and the national olympic code (`IOC`).\n",
    "\n",
    "\n",
    "The following code loads the datasets."
   ]
  },
  {
   "cell_type": "code",
   "execution_count": 2,
   "metadata": {},
   "outputs": [
    {
     "name": "stdout",
     "output_type": "stream",
     "text": [
      "   ID                      Name Sex   Age  Height  Weight            Team  \\\n",
      "0   1                 A Dijiang   M  24.0   180.0    80.0           China   \n",
      "1   2                  A Lamusi   M  23.0   170.0    60.0           China   \n",
      "2   3       Gunnar Nielsen Aaby   M  24.0     NaN     NaN         Denmark   \n",
      "3   4      Edgar Lindenau Aabye   M  34.0     NaN     NaN  Denmark/Sweden   \n",
      "4   5  Christine Jacoba Aaftink   F  21.0   185.0    82.0     Netherlands   \n",
      "\n",
      "   NOC        Games  Year  Season       City          Sport  \\\n",
      "0  CHN  1992 Summer  1992  Summer  Barcelona     Basketball   \n",
      "1  CHN  2012 Summer  2012  Summer     London           Judo   \n",
      "2  DEN  1920 Summer  1920  Summer  Antwerpen       Football   \n",
      "3  DEN  1900 Summer  1900  Summer      Paris     Tug-Of-War   \n",
      "4  NED  1988 Winter  1988  Winter    Calgary  Speed Skating   \n",
      "\n",
      "                              Event Medal  \n",
      "0       Basketball Men's Basketball   NaN  \n",
      "1      Judo Men's Extra-Lightweight   NaN  \n",
      "2           Football Men's Football   NaN  \n",
      "3       Tug-Of-War Men's Tug-Of-War  Gold  \n",
      "4  Speed Skating Women's 500 metres   NaN  \n"
     ]
    }
   ],
   "source": [
    "dataFileName = os.path.join( \"..\", \"data\", \"athlete_events.csv\")\n",
    "\n",
    "dataDF = pd.read_csv(dataFileName)\n",
    "\n",
    "print(dataDF.head(5))"
   ]
  },
  {
   "cell_type": "code",
   "execution_count": 3,
   "metadata": {},
   "outputs": [
    {
     "name": "stdout",
     "output_type": "stream",
     "text": [
      "          Country ISO2 ISO3   ISON  IOC FIPS Plates Domain\n",
      "0     Afghanistan   AF  AFG    4.0  AFG   AF    AFG    .af\n",
      "1   Åland Islands   AX  ALA  248.0  NaN  NaN     AX    .ax\n",
      "2         Albania   AL  ALB    8.0  ALB   AL     AL    .al\n",
      "3         Algeria   DZ  DZA   12.0  ALG   AG     DZ    .dz\n",
      "4  American Samoa   AS  ASM   16.0  ASA   AQ    USA    .as\n"
     ]
    }
   ],
   "source": [
    "codesFileName = os.path.join(\"..\", \"data\", \"codes.csv\")\n",
    "\n",
    "codesDF = pd.read_csv(codesFileName)\n",
    "\n",
    "print(codesDF.head(5))"
   ]
  },
  {
   "cell_type": "code",
   "execution_count": 4,
   "metadata": {},
   "outputs": [
    {
     "name": "stdout",
     "output_type": "stream",
     "text": [
      "   geo         name  time  Population\n",
      "0  afg  Afghanistan  1800   3280000.0\n",
      "1  afg  Afghanistan  1801   3280000.0\n",
      "2  afg  Afghanistan  1802   3280000.0\n",
      "3  afg  Afghanistan  1803   3280000.0\n",
      "4  afg  Afghanistan  1804   3280000.0\n"
     ]
    }
   ],
   "source": [
    "populationFileName = os.path.join(\"..\", \"data\", \"population.csv\")\n",
    "\n",
    "populationDF = pd.read_csv(populationFileName)\n",
    "\n",
    "print(populationDF.head(5))"
   ]
  },
  {
   "cell_type": "markdown",
   "metadata": {},
   "source": [
    "For data on atheletes, there are some information missing. We can compute the number of entries missing using the following code.\n",
    "\n",
    "**NOTE:** the missing information on Medal is expected - it just means that the athlete has won no medal in the event."
   ]
  },
  {
   "cell_type": "code",
   "execution_count": 5,
   "metadata": {},
   "outputs": [
    {
     "data": {
      "text/plain": [
       "ID             0\n",
       "Name           0\n",
       "Sex            0\n",
       "Age         9474\n",
       "Height     60171\n",
       "Weight     62875\n",
       "Team           0\n",
       "NOC            0\n",
       "Games          0\n",
       "Year           0\n",
       "Season         0\n",
       "City           0\n",
       "Sport          0\n",
       "Event          0\n",
       "Medal     231333\n",
       "dtype: int64"
      ]
     },
     "execution_count": 5,
     "metadata": {},
     "output_type": "execute_result"
    }
   ],
   "source": [
    "dataDF.isna().sum()"
   ]
  },
  {
   "cell_type": "markdown",
   "metadata": {},
   "source": [
    "**GENERAL NOTE:** In your computations, if there are rows for which needed information is missing, just drop the rows."
   ]
  },
  {
   "cell_type": "markdown",
   "metadata": {},
   "source": [
    "## Question 1 (7 points)\n",
    "\n",
    "In this question, we start by exploring the data available with simple queries. In your answers, you can use the data computed in the previous answers if and when useful.\n",
    "\n",
    "\n",
    "### **1.a)** How many athletes have participated in Summer Olympics and how many athlete participated in Winter Olympics?\n"
   ]
  },
  {
   "cell_type": "code",
   "execution_count": 6,
   "metadata": {},
   "outputs": [
    {
     "name": "stdout",
     "output_type": "stream",
     "text": [
      "summer\n",
      "116776\n",
      "winter\n",
      "18958\n"
     ]
    }
   ],
   "source": [
    "summer = dataDF[dataDF[\"Season\"]==\"Summer\"][\"ID\"].nunique() \n",
    "print( \"summer\")\n",
    "print( summer)\n",
    "winter = dataDF[dataDF[\"Season\"]==\"Winter\"][\"ID\"].nunique() \n",
    "print( \"winter\")\n",
    "print( winter)"
   ]
  },
  {
   "cell_type": "markdown",
   "metadata": {},
   "source": [
    "### **1.b)** Who are the three youngest and oldest athletes that won a Gold medal in the Olympic games?\n",
    "\n",
    "Show the following information about each athelete: Name, Age, Team, Games, Sport and Event."
   ]
  },
  {
   "cell_type": "code",
   "execution_count": 7,
   "metadata": {},
   "outputs": [
    {
     "name": "stdout",
     "output_type": "stream",
     "text": [
      "Oldest athletes\n",
      "                        Name   Age           Team        Games  \\\n",
      "105199       Charles Jacobus  64.0  United States  1904 Summer   \n",
      "233390     Oscar Gomer Swahn  64.0         Sweden  1912 Summer   \n",
      "104003  Isaac Lazarus Israls  63.0    Netherlands  1928 Summer   \n",
      "\n",
      "                   Sport                                             Event  \n",
      "105199             Roque                               Roque Men's Singles  \n",
      "233390          Shooting  Shooting Men's Running Target, Single Shot, Team  \n",
      "104003  Art Competitions        Art Competitions Mixed Painting, Paintings  \n",
      "Youngest athletes\n",
      "                                     Name   Age           Team        Games  \\\n",
      "27207                       Hans Bourquin  13.0    Switzerland  1928 Summer   \n",
      "52010  Donna Elizabeth de Varona (-Pinto)  13.0  United States  1960 Summer   \n",
      "73581                          Fu Mingxia  13.0          China  1992 Summer   \n",
      "\n",
      "          Sport                                            Event  \n",
      "27207    Rowing                         Rowing Men's Coxed Pairs  \n",
      "52010  Swimming  Swimming Women's 4 x 100 metres Freestyle Relay  \n",
      "73581    Diving                          Diving Women's Platform  \n"
     ]
    }
   ],
   "source": [
    "highest = dataDF[dataDF[\"Medal\"] == \"Gold\"][[\"Name\",\"Age\",\"Team\",\"Games\",\"Sport\",\"Event\" ]].nlargest(3,\"Age\")\n",
    "print( \"Oldest athletes\")\n",
    "print( highest)\n",
    "lowest = dataDF[dataDF[\"Medal\"] == \"Gold\"][[\"Name\",\"Age\",\"Team\",\"Games\",\"Sport\",\"Event\"] ].nsmallest(3,\"Age\")\n",
    "print( \"Youngest athletes\")\n",
    "print( lowest)\n",
    "# NOTE: this does not show other atheletes if there are more atheletes # with the same age"
   ]
  },
  {
   "cell_type": "markdown",
   "metadata": {},
   "source": [
    "### 1.c) Who are the top-10 athletes that have won more Gold medals in the Olympic Games?\n",
    "\n"
   ]
  },
  {
   "cell_type": "code",
   "execution_count": 8,
   "metadata": {},
   "outputs": [
    {
     "name": "stdout",
     "output_type": "stream",
     "text": [
      "                                      Name  Medal\n",
      "ID                                               \n",
      "94406              Michael Fred Phelps, II     23\n",
      "33557          Raymond Clarence \"Ray\" Ewry     10\n",
      "67046   Larysa Semenivna Latynina (Diriy-)      9\n",
      "69210       Frederick Carlton \"Carl\" Lewis      9\n",
      "87390                 Paavo Johannes Nurmi      9\n",
      "113912                   Mark Andrew Spitz      9\n",
      "11642       Matthew Nicholas \"Matt\" Biondi      8\n",
      "11951                  Ole Einar Bjrndalen      8\n",
      "13029                   Usain St. Leo Bolt      8\n",
      "35550               Birgit Fischer-Schmidt      8\n"
     ]
    }
   ],
   "source": [
    "won = dataDF[(dataDF[\"Medal\"] == \"Gold\")][[\"ID\",\"Name\",\"Medal\"]].groupby(\"ID\").agg({\"Name\":\"first\",\"Medal\":\"count\"})\n",
    "best = won.nlargest(10,[\"Medal\"]) \n",
    "print(best)"
   ]
  },
  {
   "cell_type": "markdown",
   "metadata": {},
   "source": [
    "### 1.d) For Summer Olympics, after 1950, who are the athletes that have won more medals in each edition?\n",
    "\n",
    "Show the following information: Year, Name of athlete, and number of medals."
   ]
  },
  {
   "cell_type": "code",
   "execution_count": 9,
   "metadata": {},
   "outputs": [
    {
     "name": "stdout",
     "output_type": "stream",
     "text": [
      "                                    Name  Medal\n",
      "Year                                           \n",
      "1952      Mariya Kindrativna Horokhovska      7\n",
      "1956           gnes Keleti-Srkny (Klein)      6\n",
      "1960         Borys Anfiyanovych Shakhlin      7\n",
      "1964  Larysa Semenivna Latynina (Diriy-)      6\n",
      "1968         Mikhail Yakovlevich Voronin      7\n",
      "1972                   Mark Andrew Spitz      7\n",
      "1976        Nikolay Yefimovich Andrianov      7\n",
      "1980     Aleksandr Nikolayevich Dityatin      8\n",
      "1984                             Li Ning      6\n",
      "1988      Matthew Nicholas \"Matt\" Biondi      7\n",
      "1992       Vitaly Venediktovich Shcherbo      6\n",
      "1996             Aleksey Yuryevich Nemov      6\n",
      "2000             Aleksey Yuryevich Nemov      6\n",
      "2004             Michael Fred Phelps, II      8\n",
      "2008             Michael Fred Phelps, II      8\n",
      "2012             Michael Fred Phelps, II      6\n",
      "2016             Michael Fred Phelps, II      6\n"
     ]
    }
   ],
   "source": [
    "won = dataDF[(~dataDF[\"Medal\"].isna())&(dataDF[\"Year\"]>1950)&(dataDF[\"Season\"]==\"Summer\" )][[\"ID\",\"Name\",\"Medal\",\"Year\"]]\\\n",
    "                .groupby([\"ID\",\"Year\"]).agg({\"Name\":\"first\",\"Medal\":\"count\"}) \n",
    "byyear = won.reset_index().groupby(\"Year\").apply(lambda p: p.nlargest(1,[\"Medal\"])) \n",
    "byyear = byyear.set_index(\"Year\").drop(columns=[\"ID\"])\n",
    "print(byyear)"
   ]
  },
  {
   "cell_type": "markdown",
   "metadata": {},
   "source": [
    "### 1.e) For each athlete, compute the number of gold, silver and bronze medals she/he has won.\n",
    "\n",
    "**Suggestions:** two alternative suggestion are investigating pivot tables and custom defined aggregation functions.\n"
   ]
  },
  {
   "cell_type": "code",
   "execution_count": 13,
   "metadata": {},
   "outputs": [
    {
     "name": "stdout",
     "output_type": "stream",
     "text": [
      "Medal                                                   Gold  Silver  Bronze\n",
      "ID     Name                                                                 \n",
      "94406  Michael Fred Phelps, II                            23       3       2\n",
      "33557  Raymond Clarence \"Ray\" Ewry                        10       0       0\n",
      "67046  Larysa Semenivna Latynina (Diriy-)                  9       5       4\n",
      "87390  Paavo Johannes Nurmi                                9       3       0\n",
      "113912 Mark Andrew Spitz                                   9       1       1\n",
      "69210  Frederick Carlton \"Carl\" Lewis                      9       1       0\n",
      "11951  Ole Einar Bjrndalen                                 8       4       1\n",
      "35550  Birgit Fischer-Schmidt                              8       4       0\n",
      "57998  Sawao Kato                                          8       3       1\n",
      "119922 Jennifer Elisabeth \"Jenny\" Thompson (-Cumpelik)     8       3       1\n"
     ]
    }
   ],
   "source": [
    "filtered_df = dataDF[[\"ID\", \"Name\", \"Medal\"]]\n",
    "\n",
    "# Create a pivot table \n",
    "medals_pivot = filtered_df.pivot_table(index=[\"ID\", \"Name\"], columns=\"Medal\", aggfunc=\"size\", fill_value=0)\n",
    "medals_pivot = medals_pivot[['Gold', 'Silver', 'Bronze']]\n",
    "\n",
    "top_athletes = medals_pivot.sort_values(by=[\"Gold\", \"Silver\", \"Bronze\"], ascending=False).head(10)\n",
    "print(top_athletes)\n"
   ]
  },
  {
   "cell_type": "markdown",
   "metadata": {},
   "source": [
    "### 1.f) For the games of 2016, print the table of medals for each country.\n",
    "\n",
    "**NOTE:** for collective events (e.g. football, 4*100 meters), you should count only one medal for a given event.\n",
    "In the cell after the code, explain the rationale of the code to achieve this goal - your solution does not need to be perfect, but only an approximation of the real value."
   ]
  },
  {
   "cell_type": "code",
   "execution_count": 14,
   "metadata": {},
   "outputs": [
    {
     "name": "stdout",
     "output_type": "stream",
     "text": [
      "Medal  Gold  Silver  Bronze\n",
      "NOC                        \n",
      "USA    46.0    37.0    38.0\n",
      "GBR    27.0    23.0    17.0\n",
      "CHN    26.0    18.0    26.0\n",
      "RUS    19.0    17.0    20.0\n",
      "GER    17.0    10.0    15.0\n",
      "JPN    12.0     8.0    21.0\n",
      "FRA    10.0    18.0    14.0\n",
      "KOR     9.0     3.0     9.0\n",
      "ITA     8.0    12.0     8.0\n",
      "AUS     8.0    11.0    10.0\n"
     ]
    }
   ],
   "source": [
    "medals2016_2 = dataDF[(dataDF[\"Year\"]==2016)&(~dataDF[\"Medal\"].isna())]\n",
    "\n",
    "# Better solution... findout event that have more than 5 medals as those that are collective\n",
    "events2016 = medals2016_2[[\"Event\",\"ID\"]].groupby(\"Event\").count()\n",
    "events2016[\"TeamEvent\"] = events2016[\"ID\"] > 5\n",
    "events2016 = events2016[[\"TeamEvent\"]]\n",
    "\n",
    "medals2016_2 = medals2016_2.join( events2016, on=\"Event\")\n",
    "\n",
    "medals2016_2c = medals2016_2[medals2016_2[\"TeamEvent\"]].groupby([\"Medal\",\"Event\"]).first ().reset_index()\n",
    "medals2016_2 = pd.concat([medals2016_2c,medals2016_2[~medals2016_2[\"TeamEvent\"]]])\n",
    "\n",
    "medals2016_2 = medals2016_2[[\"NOC\",\"Medal\",\"ID\"]].groupby([\"NOC\",\"Medal\"]).count().reset_index()\n",
    "medals2016_2 = medals2016_2.pivot(index=\"NOC\",columns=\"Medal\",values=\"ID\")\n",
    "medals2016_2 = medals2016_2.fillna(0)\n",
    "medals2016_2 = medals2016_2[[\"Gold\",\"Silver\",\"Bronze\"]] \n",
    "\n",
    "print(medals2016_2.nlargest(10,[\"Gold\",\"Silver\",\"Bronze\"]))"
   ]
  },
  {
   "cell_type": "markdown",
   "metadata": {},
   "source": [
    "The solution aims to generate a table of medals won by each country during the 2016 Olympic Games, ensuring that team events are counted only once. First, the dataset is filtered to include only the 2016 data where medals were awarded. The solution then identifies team events by assuming that events with more than five participants are likely team events, based on the grouped participant count per event. This team event information is merged back into the original dataset. For team events, the solution keeps only the first occurrence of each team event-medal combination, effectively counting each team event once. The dataset is then grouped by country and medal type, counting the number of medals per type for each country. A pivot table is created to restructure the data, with countries as rows and medal types (Gold, Silver, Bronze) as columns. Missing values are filled with zeros to handle countries that did not win certain types of medals. Finally, the columns are ordered as Gold, Silver, and Bronze, and the top ten countries by medal count are displayed. This method provides a reasonable approximation for counting team event medals while ensuring individual events are correctly counted."
   ]
  },
  {
   "cell_type": "markdown",
   "metadata": {},
   "source": [
    "## Question 2 (2 points)\n",
    "\n",
    "It is normal that smaller countries conquer less medals, as their population is smaller.\n",
    "In this question, we try to put the number of medals into prespective, considering the population of countries.\n"
   ]
  },
  {
   "cell_type": "code",
   "execution_count": 17,
   "metadata": {},
   "outputs": [
    {
     "name": "stdout",
     "output_type": "stream",
     "text": [
      "            name    Gold1M  Silver1M  Bronze1M\n",
      "BHS      Bahamas  2.525406  0.000000  2.525406\n",
      "JAM      Jamaica  2.140797  1.070398  0.713599\n",
      "HRV      Croatia  1.183782  0.710269  0.473513\n",
      "FJI         Fiji  1.088885  0.000000  0.000000\n",
      "NZL  New Zealand  0.856883  1.927987  1.071104\n",
      "HUN      Hungary  0.815070  0.305651  0.407535\n",
      "BHR      Bahrain  0.709390  0.709390  0.000000\n",
      "GEO      Georgia  0.530348  0.265174  1.060696\n",
      "SVN     Slovenia  0.478464  0.956929  0.478464\n",
      "NLD  Netherlands  0.467167  0.408771  0.233583\n"
     ]
    }
   ],
   "source": [
    "populationDF[\"geo\"]=populationDF[\"geo\"].str.upper()\n",
    "\n",
    "population2016DF = populationDF[populationDF[\"time\"]==2016]\n",
    "\n",
    "medalsPerMillion = medals2016_2.join(codesDF.set_index(\"IOC\"),how=\"inner\").set_index(\"ISO3\")\\\n",
    "                    .join(population2016DF.set_index(\"geo\"),how=\"inner\") \n",
    "\n",
    "medalsPerMillion[\"Gold1M\"] = medalsPerMillion[\"Gold\"] / (medalsPerMillion[\"Population\"] / 1000000)\n",
    "medalsPerMillion[\"Silver1M\"] = medalsPerMillion[\"Silver\"] / (medalsPerMillion[\"Population\"] / 1000000)\n",
    "medalsPerMillion[\"Bronze1M\"] = medalsPerMillion[\"Bronze\"] / (medalsPerMillion[\"Population\"] / 1000000)\n",
    "\n",
    "medalsPerMillion = medalsPerMillion[[\"name\",\"Gold1M\",\"Silver1M\",\"Bronze1M\"]] \n",
    "\n",
    "print(medalsPerMillion.nlargest(10,[\"Gold1M\",\"Silver1M\",\"Bronze1M\"]))"
   ]
  },
  {
   "cell_type": "markdown",
   "metadata": {},
   "source": [
    "## Question 3 (4 points)\n",
    "\n",
    "This third question focus on processing the information on a time series for plotting it."
   ]
  },
  {
   "cell_type": "markdown",
   "metadata": {},
   "source": [
    "### 3.a) Display the information about the number of athletes and medals wons by a country in the Olympic games over the years.\n",
    "\n",
    "Select a country that has a significative number of medals and plot the results.\n",
    "Discuss the rationale of your solution, including why you have decided to show the lines you are presenting and any processing you have done to the lines.\n"
   ]
  },
  {
   "cell_type": "markdown",
   "metadata": {},
   "source": []
  }
 ],
 "metadata": {
  "kernelspec": {
   "display_name": "base",
   "language": "python",
   "name": "python3"
  },
  "language_info": {
   "codemirror_mode": {
    "name": "ipython",
    "version": 3
   },
   "file_extension": ".py",
   "mimetype": "text/x-python",
   "name": "python",
   "nbconvert_exporter": "python",
   "pygments_lexer": "ipython3",
   "version": "3.11.3"
  },
  "orig_nbformat": 4
 },
 "nbformat": 4,
 "nbformat_minor": 2
}
