{
 "cells": [
  {
   "cell_type": "markdown",
   "metadata": {},
   "source": [
    "# Olympic Games Analysis\n",
    "\n",
    "**Overview:**\n",
    "\n",
    "This notebook contains an analysis of the Olympic Games data, focusing on various aspects such as athlete performance, demographic information, and country-specific statistics. The data used in this analysis was obtained from Kaggle."
   ]
  },
  {
   "cell_type": "markdown",
   "metadata": {},
   "source": [
    "### Preliminaries\n",
    "\n",
    "Just import the libraries that will be needed throughout the assignment."
   ]
  },
  {
   "cell_type": "code",
   "execution_count": 1,
   "metadata": {},
   "outputs": [],
   "source": [
    "# imports pandas\n",
    "import pandas as pd\n",
    "\n",
    "import os\n",
    "\n",
    "import matplotlib.pyplot as plt"
   ]
  },
  {
   "cell_type": "markdown",
   "metadata": {},
   "source": [
    "## Datasets\n",
    "\n",
    "For solving the questions posed, you have the following datasets available.\n",
    "\n",
    "### Olympic Games Data\n",
    "\n",
    "Data from the Olympic Games, for the period considered, were collected for each individual athlete in a given Olympic event (or race) and recorded in the file `athlete_events.csv`. For example, the following entry is for the first gold medal won by a Portuguese woman:\n",
    "\n",
    "| |ID |Name |Sex |Age |Height |Weight |Team |NOC |Games |Year |Season |City |Sport |Event |Medal|\n",
    "|---|---|-------|-------|-------|-------|-------|- ------|-------|-------|-------|-------|-------|--- ----|-----------|-----|\n",
    "|164334 |82494 |Rosa Mara Correia dos Santos Mota |F |30 |157 |45 |Portugal |POR |1988 Summer |1988 |Summer |Seoul |Athletics |Athletics Women's Marathon |Gold|\n",
    "\n",
    "The file structure is illustrated in the figure below:\n",
    "\n",
    "![Olympic Games Data](../imgs/raw_athlete_events.png)\n",
    "\n",
    "As can be seen, various information is recorded for each individual athlete in a given Olympic event, such as name (`Name`), gender (`Sex`), age (`Age`), edition of the Olympic Games (`Games `), the Olympic event (`Event`) among others. It should be noted that, for each athlete, there is an identifier (`ID`) that is unique to that athlete and invariable - it remains for all Olympic events in which that athlete has participated, regardless of the edition (year).\n",
    "\n",
    "Regarding Olympic events, there are individual events and team events - e.g. football and the 4x100m relay are team events. In team events, the data includes one record for each athlete on the team.\n",
    "\n",
    "### Population\n",
    "\n",
    "CSV file `population.csv` includes information about the population of each country for a given year.\n",
    "\n",
    "The csv file includes ISO3 code of the country (in lower case) (`geo`), the name of the country (`name`), the year (`time`) and the population (`population`).\n",
    "\n",
    "### Country codes\n",
    "\n",
    "CSV file `codes.csv` includes information about the different codes used for different countries.\n",
    "\n",
    "The csv file includes, among other, the name of the country (`Country`), ISO3 code (`ISO3`) and the national olympic code (`IOC`).\n",
    "\n",
    "\n",
    "The following code loads the datasets."
   ]
  },
  {
   "cell_type": "code",
   "execution_count": 3,
   "metadata": {},
   "outputs": [
    {
     "name": "stdout",
     "output_type": "stream",
     "text": [
      "   ID                      Name Sex   Age  Height  Weight            Team  \\\n",
      "0   1                 A Dijiang   M  24.0   180.0    80.0           China   \n",
      "1   2                  A Lamusi   M  23.0   170.0    60.0           China   \n",
      "2   3       Gunnar Nielsen Aaby   M  24.0     NaN     NaN         Denmark   \n",
      "3   4      Edgar Lindenau Aabye   M  34.0     NaN     NaN  Denmark/Sweden   \n",
      "4   5  Christine Jacoba Aaftink   F  21.0   185.0    82.0     Netherlands   \n",
      "\n",
      "   NOC        Games  Year  Season       City          Sport  \\\n",
      "0  CHN  1992 Summer  1992  Summer  Barcelona     Basketball   \n",
      "1  CHN  2012 Summer  2012  Summer     London           Judo   \n",
      "2  DEN  1920 Summer  1920  Summer  Antwerpen       Football   \n",
      "3  DEN  1900 Summer  1900  Summer      Paris     Tug-Of-War   \n",
      "4  NED  1988 Winter  1988  Winter    Calgary  Speed Skating   \n",
      "\n",
      "                              Event Medal  \n",
      "0       Basketball Men's Basketball   NaN  \n",
      "1      Judo Men's Extra-Lightweight   NaN  \n",
      "2           Football Men's Football   NaN  \n",
      "3       Tug-Of-War Men's Tug-Of-War  Gold  \n",
      "4  Speed Skating Women's 500 metres   NaN  \n"
     ]
    }
   ],
   "source": [
    "dataFileName = os.path.join( \"..\", \"data\", \"athlete_events.csv\")\n",
    "\n",
    "dataDF = pd.read_csv(dataFileName)\n",
    "\n",
    "print(dataDF.head(5))"
   ]
  },
  {
   "cell_type": "code",
   "execution_count": 4,
   "metadata": {},
   "outputs": [
    {
     "name": "stdout",
     "output_type": "stream",
     "text": [
      "          Country ISO2 ISO3   ISON  IOC FIPS Plates Domain\n",
      "0     Afghanistan   AF  AFG    4.0  AFG   AF    AFG    .af\n",
      "1   Åland Islands   AX  ALA  248.0  NaN  NaN     AX    .ax\n",
      "2         Albania   AL  ALB    8.0  ALB   AL     AL    .al\n",
      "3         Algeria   DZ  DZA   12.0  ALG   AG     DZ    .dz\n",
      "4  American Samoa   AS  ASM   16.0  ASA   AQ    USA    .as\n"
     ]
    }
   ],
   "source": [
    "codesFileName = os.path.join(\"..\", \"data\", \"codes.csv\")\n",
    "\n",
    "codesDF = pd.read_csv(codesFileName)\n",
    "\n",
    "print(codesDF.head(5))"
   ]
  },
  {
   "cell_type": "code",
   "execution_count": 5,
   "metadata": {},
   "outputs": [
    {
     "name": "stdout",
     "output_type": "stream",
     "text": [
      "   geo         name  time  Population\n",
      "0  afg  Afghanistan  1800   3280000.0\n",
      "1  afg  Afghanistan  1801   3280000.0\n",
      "2  afg  Afghanistan  1802   3280000.0\n",
      "3  afg  Afghanistan  1803   3280000.0\n",
      "4  afg  Afghanistan  1804   3280000.0\n"
     ]
    }
   ],
   "source": [
    "populationFileName = os.path.join(\"..\", \"data\", \"population.csv\")\n",
    "\n",
    "populationDF = pd.read_csv(populationFileName)\n",
    "\n",
    "print(populationDF.head(5))"
   ]
  },
  {
   "cell_type": "markdown",
   "metadata": {},
   "source": [
    "For data on atheletes, there are some information missing. We can compute the number of entries missing using the following code.\n",
    "\n",
    "**NOTE:** the missing information on Medal is expected - it just means that the athlete has won no medal in the event."
   ]
  },
  {
   "cell_type": "code",
   "execution_count": 6,
   "metadata": {},
   "outputs": [
    {
     "data": {
      "text/plain": [
       "ID             0\n",
       "Name           0\n",
       "Sex            0\n",
       "Age         9474\n",
       "Height     60171\n",
       "Weight     62875\n",
       "Team           0\n",
       "NOC            0\n",
       "Games          0\n",
       "Year           0\n",
       "Season         0\n",
       "City           0\n",
       "Sport          0\n",
       "Event          0\n",
       "Medal     231333\n",
       "dtype: int64"
      ]
     },
     "execution_count": 6,
     "metadata": {},
     "output_type": "execute_result"
    }
   ],
   "source": [
    "dataDF.isna().sum()"
   ]
  },
  {
   "cell_type": "markdown",
   "metadata": {},
   "source": [
    "**GENERAL NOTE:** In your computations, if there are rows for which needed information is missing, just drop the rows."
   ]
  },
  {
   "cell_type": "markdown",
   "metadata": {},
   "source": [
    "## Question 1 (7 points)\n",
    "\n",
    "In this question, we start by exploring the data available with simple queries. In your answers, you can use the data computed in the previous answers if and when useful.\n",
    "\n",
    "\n",
    "### **1.a)** How many athletes have participated in Summer Olympics and how many athlete participated in Winter Olympics?\n"
   ]
  },
  {
   "cell_type": "code",
   "execution_count": 7,
   "metadata": {},
   "outputs": [
    {
     "name": "stdout",
     "output_type": "stream",
     "text": [
      "summer\n",
      "116776\n",
      "winter\n",
      "18958\n"
     ]
    }
   ],
   "source": [
    "summer = dataDF[dataDF[\"Season\"]==\"Summer\"][\"ID\"].nunique() \n",
    "print( \"summer\")\n",
    "print( summer)\n",
    "winter = dataDF[dataDF[\"Season\"]==\"Winter\"][\"ID\"].nunique() \n",
    "print( \"winter\")\n",
    "print( winter)"
   ]
  },
  {
   "cell_type": "markdown",
   "metadata": {},
   "source": [
    "### **1.b)** Who are the three youngest and oldest athletes that won a Gold medal in the Olympic games?\n",
    "\n",
    "Show the following information about each athelete: Name, Age, Team, Games, Sport and Event."
   ]
  },
  {
   "cell_type": "code",
   "execution_count": 8,
   "metadata": {},
   "outputs": [
    {
     "name": "stdout",
     "output_type": "stream",
     "text": [
      "Oldest athletes\n",
      "                        Name   Age           Team        Games  \\\n",
      "105199       Charles Jacobus  64.0  United States  1904 Summer   \n",
      "233390     Oscar Gomer Swahn  64.0         Sweden  1912 Summer   \n",
      "104003  Isaac Lazarus Israls  63.0    Netherlands  1928 Summer   \n",
      "\n",
      "                   Sport                                             Event  \n",
      "105199             Roque                               Roque Men's Singles  \n",
      "233390          Shooting  Shooting Men's Running Target, Single Shot, Team  \n",
      "104003  Art Competitions        Art Competitions Mixed Painting, Paintings  \n",
      "Youngest athletes\n",
      "                                     Name   Age           Team        Games  \\\n",
      "27207                       Hans Bourquin  13.0    Switzerland  1928 Summer   \n",
      "52010  Donna Elizabeth de Varona (-Pinto)  13.0  United States  1960 Summer   \n",
      "73581                          Fu Mingxia  13.0          China  1992 Summer   \n",
      "\n",
      "          Sport                                            Event  \n",
      "27207    Rowing                         Rowing Men's Coxed Pairs  \n",
      "52010  Swimming  Swimming Women's 4 x 100 metres Freestyle Relay  \n",
      "73581    Diving                          Diving Women's Platform  \n"
     ]
    }
   ],
   "source": [
    "highest = dataDF[dataDF[\"Medal\"] == \"Gold\"][[\"Name\",\"Age\",\"Team\",\"Games\",\"Sport\",\"Event\" ]].nlargest(3,\"Age\")\n",
    "print( \"Oldest athletes\")\n",
    "print( highest)\n",
    "lowest = dataDF[dataDF[\"Medal\"] == \"Gold\"][[\"Name\",\"Age\",\"Team\",\"Games\",\"Sport\",\"Event\"] ].nsmallest(3,\"Age\")\n",
    "print( \"Youngest athletes\")\n",
    "print( lowest)\n",
    "# NOTE: this does not show other atheletes if there are more atheletes # with the same age"
   ]
  },
  {
   "cell_type": "markdown",
   "metadata": {},
   "source": [
    "### 1.c) Who are the top-10 athletes that have won more Gold medals in the Olympic Games?\n",
    "\n"
   ]
  },
  {
   "cell_type": "code",
   "execution_count": 9,
   "metadata": {},
   "outputs": [
    {
     "name": "stdout",
     "output_type": "stream",
     "text": [
      "                                      Name  Medal\n",
      "ID                                               \n",
      "94406              Michael Fred Phelps, II     23\n",
      "33557          Raymond Clarence \"Ray\" Ewry     10\n",
      "67046   Larysa Semenivna Latynina (Diriy-)      9\n",
      "69210       Frederick Carlton \"Carl\" Lewis      9\n",
      "87390                 Paavo Johannes Nurmi      9\n",
      "113912                   Mark Andrew Spitz      9\n",
      "11642       Matthew Nicholas \"Matt\" Biondi      8\n",
      "11951                  Ole Einar Bjrndalen      8\n",
      "13029                   Usain St. Leo Bolt      8\n",
      "35550               Birgit Fischer-Schmidt      8\n"
     ]
    }
   ],
   "source": [
    "won = dataDF[(dataDF[\"Medal\"] == \"Gold\")][[\"ID\",\"Name\",\"Medal\"]].groupby(\"ID\")\\\n",
    "    .agg({\"Name\":\"first\",\"Medal\":\"count\"})\n",
    "best = won.nlargest(10,[\"Medal\"]) \n",
    "print(best)"
   ]
  },
  {
   "cell_type": "markdown",
   "metadata": {},
   "source": [
    "### 1.d) For Summer Olympics, after 1950, who are the athletes that have won more medals in each edition?\n",
    "\n",
    "Show the following information: Year, Name of athlete, and number of medals."
   ]
  },
  {
   "cell_type": "code",
   "execution_count": 10,
   "metadata": {},
   "outputs": [
    {
     "name": "stdout",
     "output_type": "stream",
     "text": [
      "                                    Name  Medal\n",
      "Year                                           \n",
      "1952      Mariya Kindrativna Horokhovska      7\n",
      "1956           gnes Keleti-Srkny (Klein)      6\n",
      "1960         Borys Anfiyanovych Shakhlin      7\n",
      "1964  Larysa Semenivna Latynina (Diriy-)      6\n",
      "1968         Mikhail Yakovlevich Voronin      7\n",
      "1972                   Mark Andrew Spitz      7\n",
      "1976        Nikolay Yefimovich Andrianov      7\n",
      "1980     Aleksandr Nikolayevich Dityatin      8\n",
      "1984                             Li Ning      6\n",
      "1988      Matthew Nicholas \"Matt\" Biondi      7\n",
      "1992       Vitaly Venediktovich Shcherbo      6\n",
      "1996             Aleksey Yuryevich Nemov      6\n",
      "2000             Aleksey Yuryevich Nemov      6\n",
      "2004             Michael Fred Phelps, II      8\n",
      "2008             Michael Fred Phelps, II      8\n",
      "2012             Michael Fred Phelps, II      6\n",
      "2016             Michael Fred Phelps, II      6\n"
     ]
    }
   ],
   "source": [
    "won = dataDF[(~dataDF[\"Medal\"].isna())&(dataDF[\"Year\"]>1950)&(dataDF[\"Season\"]==\"Summer\" )][[\"ID\",\"Name\",\"Medal\",\"Year\"]]\\\n",
    "                .groupby([\"ID\",\"Year\"]).agg({\"Name\":\"first\",\"Medal\":\"count\"}) \n",
    "byyear = won.reset_index().groupby(\"Year\").apply(lambda p: p.nlargest(1,[\"Medal\"])) \n",
    "byyear = byyear.set_index(\"Year\").drop(columns=[\"ID\"])\n",
    "print(byyear)"
   ]
  },
  {
   "cell_type": "code",
   "execution_count": null,
   "metadata": {},
   "outputs": [],
   "source": []
  }
 ],
 "metadata": {
  "kernelspec": {
   "display_name": "base",
   "language": "python",
   "name": "python3"
  },
  "language_info": {
   "codemirror_mode": {
    "name": "ipython",
    "version": 3
   },
   "file_extension": ".py",
   "mimetype": "text/x-python",
   "name": "python",
   "nbconvert_exporter": "python",
   "pygments_lexer": "ipython3",
   "version": "3.11.3"
  },
  "orig_nbformat": 4
 },
 "nbformat": 4,
 "nbformat_minor": 2
}
